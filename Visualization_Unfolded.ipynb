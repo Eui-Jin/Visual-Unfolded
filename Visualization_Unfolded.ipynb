{
 "cells": [
  {
   "cell_type": "markdown",
   "id": "c503aac5-799f-49e5-832e-707cce159865",
   "metadata": {},
   "source": [
    "# Visualization using Unfolded"
   ]
  },
  {
   "cell_type": "markdown",
   "id": "ee33a4da-32cb-40d8-bc74-82c05967fce9",
   "metadata": {},
   "source": [
    "This example demonstrates how the generated activity patterns are visualized and controlled in Unfolded maps."
   ]
  },
  {
   "cell_type": "markdown",
   "id": "011d4ec8",
   "metadata": {},
   "source": [
    "## Imports\n",
    "* 'sidecar' is useful tool for unfolded map (it requires 'Jupyter lab')\n",
    "* The side-bar from 'sidecar' tracks the changes by code."
   ]
  },
  {
   "cell_type": "code",
   "execution_count": 1,
   "id": "020d1aa5",
   "metadata": {},
   "outputs": [],
   "source": [
    "from unfolded.map_sdk import UnfoldedMap\n",
    "import pandas as pd\n",
    "from uuid import uuid4\n",
    "from sidecar import Sidecar "
   ]
  },
  {
   "cell_type": "code",
   "execution_count": null,
   "id": "d2b3a0a1-eece-4edf-8a43-ab66a1ef654a",
   "metadata": {},
   "outputs": [],
   "source": []
  },
  {
   "cell_type": "markdown",
   "id": "6db32617",
   "metadata": {},
   "source": [
    "## Using Map Layers"
   ]
  },
  {
   "cell_type": "markdown",
   "id": "8855014b-5f90-4fe9-92c2-4491068d3c2f",
   "metadata": {},
   "source": [
    "First, let's create a local map:\n",
    "* You can confirm the changes from the below code in this figure"
   ]
  },
  {
   "cell_type": "code",
   "execution_count": 2,
   "id": "71c77df9-1d42-4993-9a0a-d311064d03c9",
   "metadata": {},
   "outputs": [],
   "source": [
    "unfolded_map = UnfoldedMap()\n",
    "sc = Sidecar(title='Unfolded Map', anchor='split-right')\n",
    "with sc:\n",
    "    display(unfolded_map)"
   ]
  },
  {
   "cell_type": "markdown",
   "id": "b299b022-172c-4a37-b85a-cd02dc4579a8",
   "metadata": {},
   "source": [
    "Let's now load the activity dataset so that we can add it to the map:"
   ]
  },
  {
   "cell_type": "code",
   "execution_count": 3,
   "id": "abc29e9d-d2a7-4d39-b45c-9ffccb2bbb6f",
   "metadata": {},
   "outputs": [],
   "source": [
    "activity_data = pd.read_csv('Data/ActivityPattern.csv')\n",
    "activity_data\n",
    "activity_data['ArrivalTime'] = activity_data['ArrivalTime'].astype('string')+':00'"
   ]
  },
  {
   "cell_type": "markdown",
   "id": "7bf797a4-6669-4f75-9d16-0a75da8d2dff",
   "metadata": {},
   "source": [
    "Impose a dataset id to handle multiple datasets. Then, we add it and set `auto_create_layers` to `False`, so that we can then manually add a layer for this data:"
   ]
  },
  {
   "cell_type": "code",
   "execution_count": 4,
   "id": "37ebfcb5",
   "metadata": {},
   "outputs": [
    {
     "data": {
      "text/plain": [
       "<Future pending>"
      ]
     },
     "execution_count": 4,
     "metadata": {},
     "output_type": "execute_result"
    }
   ],
   "source": [
    "dataset_id=uuid4()\n",
    "\n",
    "unfolded_map.add_dataset(\n",
    "    {\n",
    "        'uuid': dataset_id,\n",
    "        'data': activity_data\n",
    "    },\n",
    "    auto_create_layers = False\n",
    ")"
   ]
  },
  {
   "cell_type": "markdown",
   "id": "50f80f43-e4eb-4a5f-8852-5b3bfa028c03",
   "metadata": {},
   "source": [
    "Set the view to the Seoul, South Korea, where the activity occurs"
   ]
  },
  {
   "cell_type": "code",
   "execution_count": 5,
   "id": "d1b7def3-702a-4925-bad6-f32236c2eecc",
   "metadata": {},
   "outputs": [
    {
     "data": {
      "text/plain": [
       "<Future pending>"
      ]
     },
     "execution_count": 5,
     "metadata": {},
     "output_type": "execute_result"
    }
   ],
   "source": [
    "unfolded_map.set_view_state({\n",
    "    'longitude': 127.0, \n",
    "    'latitude': 37.5,\n",
    "    'zoom': 10\n",
    "})"
   ]
  },
  {
   "cell_type": "markdown",
   "id": "05b6f62b",
   "metadata": {},
   "source": [
    "## Adding a custom layer"
   ]
  },
  {
   "cell_type": "markdown",
   "id": "cdffa01c-e9a1-495e-aff0-89935a02ae8d",
   "metadata": {},
   "source": [
    "Here we create a custom point layer and specify which fields will be used for `lat`, `lon` and color of the points:"
   ]
  },
  {
   "cell_type": "code",
   "execution_count": 6,
   "id": "fa6da747",
   "metadata": {},
   "outputs": [
    {
     "data": {
      "text/plain": [
       "<Future pending>"
      ]
     },
     "execution_count": 6,
     "metadata": {},
     "output_type": "execute_result"
    }
   ],
   "source": [
    "unfolded_map.add_layer({\n",
    "    'id': 'earthquake_points',\n",
    "    'type': 'point',\n",
    "    'config': {\n",
    "        'data_id': dataset_id,\n",
    "        'label': 'Activity',\n",
    "        'columns': {'lat': 'Lat','lng': 'Lon'},\n",
    "        'is_visible': True,\n",
    "        'color_field': {'name': 'TripPurposes', 'type': 'object'}\n",
    "    }\n",
    "})"
   ]
  },
  {
   "cell_type": "markdown",
   "id": "03506fb6-091e-4010-879c-444794d9c724",
   "metadata": {},
   "source": [
    "## Adding a filter"
   ]
  },
  {
   "cell_type": "markdown",
   "id": "4065babc-54bf-4a67-8bbb-3910bfdb51c6",
   "metadata": {},
   "source": [
    "Say, we want to filter the data points by the `ActivityDuration` column. Let's first find out what's the extent of the values in this column:"
   ]
  },
  {
   "cell_type": "code",
   "execution_count": 7,
   "id": "684cdb83-a6eb-4fc9-bd87-0e33052bd236",
   "metadata": {},
   "outputs": [
    {
     "data": {
      "text/plain": [
       "[0.0, 994.0]"
      ]
     },
     "execution_count": 7,
     "metadata": {},
     "output_type": "execute_result"
    },
    {
     "data": {
      "image/png": "[encoded data removed]",
      "text/plain": [
       "<Figure size 432x288 with 1 Axes>"
      ]
     },
     "metadata": {
      "needs_background": "light"
     },
     "output_type": "display_data"
    }
   ],
   "source": [
    "import seaborn as sns\n",
    "hist = sns.histplot(data=activity_data['ActivityDuration'], bins=100)\n",
    "\n",
    "magnitude_extent = [activity_data['ActivityDuration'].min(), activity_data['ActivityDuration'].max()]\n",
    "magnitude_extent"
   ]
  },
  {
   "cell_type": "markdown",
   "id": "9598c3d4-b21f-4ed2-ad1b-6a4d001abf4d",
   "metadata": {},
   "source": [
    "Now we can set the filter to only show the points in the top half of the range:"
   ]
  },
  {
   "cell_type": "code",
   "execution_count": 8,
   "id": "049aaebc-ff83-4194-8a8f-8dfb6fdd60d8",
   "metadata": {},
   "outputs": [
    {
     "data": {
      "text/plain": [
       "<Future pending>"
      ]
     },
     "execution_count": 8,
     "metadata": {},
     "output_type": "execute_result"
    }
   ],
   "source": [
    "unfolded_map.set_filter({\n",
    "    'id': 'Duration_filter',\n",
    "    'field': 'ActivityDuration',\n",
    "    'value': [\n",
    "        (magnitude_extent[1] + magnitude_extent[0])/2,\n",
    "        magnitude_extent[1]\n",
    "    ]\n",
    "})"
   ]
  },
  {
   "cell_type": "markdown",
   "id": "7ad3fadc-1695-4e1d-a9a7-eb5cbfd7f954",
   "metadata": {},
   "source": [
    "## Adding a Timeline\n",
    "Convert the `DateTime` column to [`datetime`](https://docs.python.org/3/library/datetime.html):"
   ]
  },
  {
   "cell_type": "code",
   "execution_count": 9,
   "id": "e02ef6b3-8367-431a-b1aa-56b7be7ac253",
   "metadata": {},
   "outputs": [
    {
     "data": {
      "image/png": "[encoded data removed]",
      "text/plain": [
       "<Figure size 432x288 with 1 Axes>"
      ]
     },
     "metadata": {
      "needs_background": "light"
     },
     "output_type": "display_data"
    }
   ],
   "source": [
    "activity_data['ArrivalTime']= pd.to_datetime(activity_data['ArrivalTime'])\n",
    "time_extent = [activity_data['ArrivalTime'].min(),activity_data['ArrivalTime'].max()]\n",
    "time_extent\n",
    "hist = sns.histplot(data=activity_data['ArrivalTime'], bins=100)"
   ]
  },
  {
   "cell_type": "markdown",
   "id": "6b2409c8-5d1d-4132-9994-caca4b3b7d67",
   "metadata": {},
   "source": [
    "Here we add a `DateTime` filter to the map:"
   ]
  },
  {
   "cell_type": "code",
   "execution_count": 10,
   "id": "655e9373-b3be-4d3e-bf24-40ac238b0e35",
   "metadata": {},
   "outputs": [
    {
     "data": {
      "text/plain": [
       "<Future pending>"
      ]
     },
     "execution_count": 10,
     "metadata": {},
     "output_type": "execute_result"
    }
   ],
   "source": [
    "unfolded_map.set_filter({\n",
    "    'id': 'time-filter',\n",
    "    'field': 'ArrivalTime',\n",
    "    'value': [\n",
    "        time_extent[0].timestamp() * 1000,\n",
    "        time_extent[1].timestamp() * 1000,\n",
    "    ]\n",
    "})"
   ]
  },
  {
   "cell_type": "code",
   "execution_count": null,
   "id": "fc965575-6a13-4fb2-8981-e6ce89128806",
   "metadata": {},
   "outputs": [],
   "source": []
  }
 ],
 "metadata": {
  "kernelspec": {
   "display_name": "Python 3",
   "language": "python",
   "name": "python3"
  },
  "language_info": {
   "codemirror_mode": {
    "name": "ipython",
    "version": 3
   },
   "file_extension": ".py",
   "mimetype": "text/x-python",
   "name": "python",
   "nbconvert_exporter": "python",
   "pygments_lexer": "ipython3",
   "version": "3.6.12"
  }
 },
 "nbformat": 4,
 "nbformat_minor": 5
}
