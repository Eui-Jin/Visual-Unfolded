{
 "cells": [
  {
   "cell_type": "markdown",
   "metadata": {},
   "source": [
    "# Load the sample data\n",
    "   * Sampled small-scale complete data (trave survey data from 10,000 individuals)\n",
    "   * Sampled large-scale incomplete data (smart card data from 10,000 + 10,000 individuals)"
   ]
  },
  {
   "cell_type": "code",
   "execution_count": 1,
   "metadata": {},
   "outputs": [],
   "source": [
    "import numpy as np\n",
    "import pandas as pd\n",
    "\n",
    "#Load the sampled complete and incomplte data \n",
    "# x_train_cond_R = pd.read_csv('01_Data/train_complete_qualitative.csv')\n",
    "# y_train_cond_R = pd.read_csv('01_Data/train_complete_tripChain.csv')\n",
    "# y_train_cond_SC_R = pd.read_csv('01_Data/train_incomplete_tripChain.csv')\n",
    "\n",
    "x_train_cond_R = pd.read_csv('Data/x_train_cond_R_Coord_ID_DisR.csv')\n",
    "y_train_cond_R = pd.read_csv('Data/y_train_cond_R_Coord_ID_DisR.csv')\n",
    "y_train_cond_SC_R = pd.read_csv('Data/y_train_cond_SC_R_Coord_ID_DisR_LatLon.csv')"
   ]
  },
  {
   "cell_type": "code",
   "execution_count": 2,
   "metadata": {},
   "outputs": [
    {
     "name": "stdout",
     "output_type": "stream",
     "text": [
      "(64299, 9)\n",
      "(64299, 20)\n",
      "(262849, 23)\n"
     ]
    }
   ],
   "source": [
    "print(x_train_cond_R.shape)\n",
    "print(y_train_cond_R.shape)\n",
    "print(y_train_cond_SC_R.shape)"
   ]
  },
  {
   "cell_type": "markdown",
   "metadata": {
    "tags": []
   },
   "source": [
    "# Data Preprocessing\n",
    " * Transforming the long-form data into ndarray sequential form"
   ]
  },
  {
   "cell_type": "code",
   "execution_count": 3,
   "metadata": {},
   "outputs": [],
   "source": [
    "x_train_cond_R = x_train_cond_R[y_train_cond_R['Max_seq'] != 6]\n",
    "y_train_cond_R = y_train_cond_R[y_train_cond_R['Max_seq'] != 6]\n",
    "y_train_cond_SC_R = y_train_cond_SC_R[y_train_cond_SC_R['Max_seq'] != 6]"
   ]
  },
  {
   "cell_type": "code",
   "execution_count": 4,
   "metadata": {
    "tags": []
   },
   "outputs": [],
   "source": [
    "Sam_ID = x_train_cond_R['ID'].unique()\n",
    "Sam_ID_SC_train = y_train_cond_SC_R['NID'].unique()[50000:100000]\n",
    "\n",
    "x_train_cond_R_sample = x_train_cond_R[x_train_cond_R['ID'].isin(Sam_ID)]\n",
    "y_train_cond_R_sample = y_train_cond_R[x_train_cond_R['ID'].isin(Sam_ID)]\n",
    "y_train_cond_SC_R_sample = y_train_cond_SC_R[y_train_cond_SC_R['NID'].isin(Sam_ID_SC_train)]\n",
    "\n",
    "x_train_cond_R_sample.to_csv('Data/train_complete_qualitative.csv',index=False)\n",
    "y_train_cond_R_sample.to_csv('Data/train_complete_tripChain.csv',index=False)\n",
    "y_train_cond_SC_R_sample.to_csv('Data/train_incomplete_tripChain_LatLon.csv',index=False)\n"
   ]
  },
  {
   "cell_type": "code",
   "execution_count": null,
   "metadata": {},
   "outputs": [],
   "source": []
  }
 ],
 "metadata": {
  "kernelspec": {
   "display_name": "Python 3",
   "language": "python",
   "name": "python3"
  },
  "language_info": {
   "codemirror_mode": {
    "name": "ipython",
    "version": 3
   },
   "file_extension": ".py",
   "mimetype": "text/x-python",
   "name": "python",
   "nbconvert_exporter": "python",
   "pygments_lexer": "ipython3",
   "version": "3.6.12"
  }
 },
 "nbformat": 4,
 "nbformat_minor": 4
}
